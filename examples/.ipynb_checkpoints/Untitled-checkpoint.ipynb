{
 "cells": [
  {
   "cell_type": "code",
   "execution_count": 1,
   "metadata": {},
   "outputs": [],
   "source": [
    "# Some transit-timing examples:"
   ]
  },
  {
   "cell_type": "code",
   "execution_count": 2,
   "metadata": {},
   "outputs": [
    {
     "data": {
      "text/plain": [
       "findtransit3! (generic function with 2 methods)"
      ]
     },
     "execution_count": 2,
     "metadata": {},
     "output_type": "execute_result"
    }
   ],
   "source": [
    "include(\"../src/ttv.jl\")"
   ]
  },
  {
   "cell_type": "code",
   "execution_count": null,
   "metadata": {},
   "outputs": [],
   "source": [
    "# Mass of star:\n",
    "mstar = 0.82\n",
    "\n",
    "# First planet:\n",
    "m_1 = 3.18e-4\n",
    "e1 = 0.0069\n",
    "om1 = 0.0\n",
    "p1 = 228.774\n",
    "t01 = 0.0\n",
    "\n",
    "# Second planet:\n",
    "m_2 = 3e-6\n",
    "e2  = 0.0054\n",
    "om2 = 0.0\n",
    "p2 = 221.717\n",
    "t02 = -p2/6  # We want mean anomaly to be +60 deg, so its\n",
    "             # transit should have occurred 1/6 of an orbit \n",
    "             # prior to the initial time.\n",
    "\n",
    "# Now, integration quantities:\n",
    "t0 = 0.0\n",
    "h  = 10.0 # time step\n",
    "tmax = "
   ]
  }
 ],
 "metadata": {
  "kernelspec": {
   "display_name": "Julia 1.3.1",
   "language": "julia",
   "name": "julia-1.3"
  },
  "language_info": {
   "file_extension": ".jl",
   "mimetype": "application/julia",
   "name": "julia",
   "version": "1.3.1"
  }
 },
 "nbformat": 4,
 "nbformat_minor": 2
}
