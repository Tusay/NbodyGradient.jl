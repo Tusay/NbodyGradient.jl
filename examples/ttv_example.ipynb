{
 "cells": [
  {
   "cell_type": "markdown",
   "metadata": {},
   "source": [
    "# A transit-timing example:"
   ]
  },
  {
   "cell_type": "code",
   "execution_count": 1,
   "metadata": {},
   "outputs": [
    {
     "data": {
      "text/plain": [
       "findtransit3! (generic function with 2 methods)"
      ]
     },
     "execution_count": 1,
     "metadata": {},
     "output_type": "execute_result"
    }
   ],
   "source": [
    "# Read in the transit-timing code:\n",
    "include(\"../src/ttv.jl\")"
   ]
  },
  {
   "cell_type": "code",
   "execution_count": 3,
   "metadata": {},
   "outputs": [
    {
     "name": "stdout",
     "output_type": "stream",
     "text": [
      "[113.3811834634834, 342.1505437871499, 570.9128405267103, 799.6656975665412, 1028.4078965983026, 1257.138891006447, 1485.8584873990928, 1714.5666541125847, 1943.2634301437913, 2171.9489191721063, 2400.6233642906955, 2629.2873094758834, 2857.941863770591, 3086.589097166581, 3315.2326233626623, 3543.8784635607726, 3772.536148822925, 4001.21857507202, 4229.935527508095, 4458.68339970893, 4687.449252125066, 4916.221255911535, 5144.99155877681, 5373.755439991609, 5602.510228167527, 5831.254526989078, 6059.9876904418925, 6288.709475903497, 6517.41983072623, 6746.118783456111, 6974.806422233869, 7203.482953910205, 7432.148847969496, 7660.805079278072, 7889.453495544048, 8118.097358062184, 8346.742144187392, 8575.39663855674, 8804.073308912828, 9032.783446335414, 9261.526286930133, 9490.289727440198, 9719.061278612948]\n"
     ]
    }
   ],
   "source": [
    "# Specify the initial conditions:\n",
    "\n",
    "# Mass of star:\n",
    "mstar = 0.82\n",
    "\n",
    "# First planet:\n",
    "m_1 = 3.18e-4\n",
    "e1 = 0.0069\n",
    "om1 = 0.0\n",
    "p1 = 228.774\n",
    "t01 = 0.0\n",
    "\n",
    "# Second planet:\n",
    "m_2 = 3e-6\n",
    "e2  = 0.0054\n",
    "om2 = 0.0\n",
    "p2 = 221.717\n",
    "t02 = -p2/6  # We want mean anomaly to be +60 deg, so its\n",
    "             # transit should have about occurred 1/6 of an orbit \n",
    "             # prior to the initial time.\n",
    "\n",
    "# Now, integration quantities:\n",
    "t0 = 0.0  # initial time\n",
    "h  = 10.0 # time step\n",
    "tmax = 9837.282 # Maximum time of integration\n",
    "\n",
    "# Okay, set up array for orbital elements\n",
    "H = [3,1,1]\n",
    "n = H[1]\n",
    "elements = zeros(n,7)\n",
    "elements[1,1] = mstar\n",
    "elements[2,:] = [m_1,p1,t01,e1*cos(om1),e1*sin(om1),pi/2,0.0]\n",
    "elements[3,:] = [m_2,p2,t02,e2*cos(om2),e2*sin(om2),pi/2,0.0]\n",
    "count = zeros(Int64,n)\n",
    "tt = zeros(n,44)\n",
    "rstar = 1e12\n",
    "\n",
    "# Now, run the ttv function:\n",
    "dq = ttv_elements!(H,t0,h,tmax,elements,tt,count,0.0,0,0,rstar)\n",
    "\n",
    "# Print the times:\n",
    "t1 = tt[2,1:count[2]]\n",
    "println(t1)"
   ]
  },
  {
   "cell_type": "code",
   "execution_count": 4,
   "metadata": {},
   "outputs": [
    {
     "name": "stderr",
     "output_type": "stream",
     "text": [
      "┌ Info: Precompiling PyPlot [d330b81b-6aea-500a-939a-2ce795aea3ee]\n",
      "└ @ Base loading.jl:1273\n"
     ]
    },
    {
     "data": {
      "image/png": "[encoded data removed]",
      "text/plain": [
       "Figure(PyObject <Figure size 640x480 with 1 Axes>)"
      ]
     },
     "metadata": {},
     "output_type": "display_data"
    },
    {
     "name": "stdout",
     "output_type": "stream",
     "text": [
      "228.7407815213002\n",
      "228.7066701165739\n",
      "228.7066689321301\n"
     ]
    }
   ],
   "source": [
    "# Plot these times with a mean ephemeris removed:\n",
    "using Statistics\n",
    "using PyPlot\n",
    "\n",
    "# Three different lengths of transit timing sequences:\n",
    "nplot = [8,22,43]\n",
    "for iplot=1:3\n",
    "  pavg = mean(t1[2:nplot[iplot]] - t1[1:nplot[iplot]-1])\n",
    "  it = collect(0:1:nplot[iplot]-1)\n",
    "  ttv1 = t1[1:nplot[iplot]] .- it .* pavg .- t1[1]\n",
    "  if iplot == 2\n",
    "    plot(it,ttv1,\"o\")\n",
    "  else\n",
    "    plot(it,ttv1,\".\")\n",
    "  end\n",
    "  println(pavg)\n",
    "end"
   ]
  },
  {
   "cell_type": "code",
   "execution_count": null,
   "metadata": {},
   "outputs": [],
   "source": []
  }
 ],
 "metadata": {
  "kernelspec": {
   "display_name": "Julia 1.3.1",
   "language": "julia",
   "name": "julia-1.3"
  },
  "language_info": {
   "file_extension": ".jl",
   "mimetype": "application/julia",
   "name": "julia",
   "version": "1.3.1"
  }
 },
 "nbformat": 4,
 "nbformat_minor": 4
}
