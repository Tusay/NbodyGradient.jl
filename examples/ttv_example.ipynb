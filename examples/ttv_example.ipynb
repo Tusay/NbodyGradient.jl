{
 "cells": [
  {
   "cell_type": "code",
   "execution_count": 1,
   "metadata": {},
   "outputs": [],
   "source": [
    "# A transit-timing example:"
   ]
  },
  {
   "cell_type": "code",
   "execution_count": 1,
   "metadata": {},
   "outputs": [
    {
     "data": {
      "text/plain": [
       "findtransit3! (generic function with 2 methods)"
      ]
     },
     "execution_count": 1,
     "metadata": {},
     "output_type": "execute_result"
    }
   ],
   "source": [
    "# Read in the transit-timing code:\n",
    "include(\"../src/ttv.jl\")"
   ]
  },
  {
   "cell_type": "code",
   "execution_count": 2,
   "metadata": {},
   "outputs": [
    {
     "name": "stdout",
     "output_type": "stream",
     "text": [
      "[50.00000000000001, 278.774, 507.548, 736.3219999999999, 965.0959999999999, 1193.8699999999997, 1422.6439999999998, 1651.418, 1880.1919999999998, 2108.966, 2337.74, 2566.514, 2795.288, 3024.062, 3252.8360000000002, 3481.61, 3710.3840000000005, 3939.1580000000004, 4167.932000000001, 4396.706000000001, 4625.4800000000005, 4854.254000000001, 5083.028000000001, 5311.8020000000015, 5540.576000000002, 5769.350000000002, 5998.1240000000025, 6226.898000000002, 6455.672000000002, 6684.446000000003, 6913.220000000003, 7141.994000000003, 7370.768000000003, 7599.542000000003, 7828.316000000003, 8057.090000000004, 8285.864000000003, 8514.638000000004, 8743.412000000004, 8972.186000000005, 9200.960000000005, 9429.734000000004, 9658.508000000005]\n"
     ]
    }
   ],
   "source": [
    "# Specify the initial conditions:\n",
    "\n",
    "# Mass of star:\n",
    "mstar = 0.82\n",
    "\n",
    "# First planet:\n",
    "m_1 = 3.18e-4\n",
    "e1 = 0.0069\n",
    "om1 = 0.0\n",
    "p1 = 228.774\n",
    "t01 = 50.0\n",
    "\n",
    "# Second planet:\n",
    "m_2 = 3e-6\n",
    "e2  = 0.0054\n",
    "om2 = 0.0\n",
    "p2 = 221.717\n",
    "t02 = -p2/6  # We want mean anomaly to be +60 deg, so its\n",
    "             # transit should have about occurred 1/6 of an orbit \n",
    "             # prior to the initial time.\n",
    "\n",
    "# Now, integration quantities:\n",
    "t0 = 0.0  # initial time\n",
    "h  = 10.0 # time step\n",
    "tmax = 9837.282 # Maximum time of integration\n",
    "\n",
    "# Okay, set up array for orbital elements\n",
    "n = 2\n",
    "elements = zeros(n,7)\n",
    "elements[1,1] = mstar\n",
    "elements[2,:] = [m_1,p1,t01,e1*cos(om1),e1*sin(om1),pi/2,0.0]\n",
    "#elements[3,:] = [m_2,p2,t02,e2*cos(om2),e2*sin(om2),pi/2,0.0]\n",
    "count = zeros(Int64,n)\n",
    "tt = zeros(n,44)\n",
    "rstar = 1e12\n",
    "\n",
    "# Now, run the ttv function:\n",
    "dq = ttv_elements!(n,t0,h,tmax,elements,tt,count,0.0,0,0,rstar)\n",
    "\n",
    "# Print the times:\n",
    "t1 = tt[2,1:count[2]]\n",
    "println(t1)"
   ]
  },
  {
   "cell_type": "code",
   "execution_count": null,
   "metadata": {},
   "outputs": [],
   "source": [
    "# Plot these times with a mean ephemeris removed:\n",
    "using Statistics\n",
    "using PyPlot\n",
    "\n",
    "# Three different lengths of transit timing sequences:\n",
    "nplot = [8,22,43]\n",
    "for iplot=1:2\n",
    "  pavg = mean(t1[2:nplot[iplot]] - t1[1:nplot[iplot]-1])\n",
    "  it = collect(0:1:nplot[iplot]-1)\n",
    "  ttv1 = t1[1:nplot[iplot]] .- it .* pavg .- t1[1]\n",
    "  if iplot == 2\n",
    "    plot(it,ttv1,\"o\")\n",
    "  else\n",
    "    plot(it,ttv1,\".\")\n",
    "  end\n",
    "  println(pavg)\n",
    "end"
   ]
  },
  {
   "cell_type": "code",
   "execution_count": null,
   "metadata": {},
   "outputs": [],
   "source": []
  }
 ],
 "metadata": {
  "kernelspec": {
   "display_name": "Julia 1.3.1",
   "language": "julia",
   "name": "julia-1.3"
  },
  "language_info": {
   "file_extension": ".jl",
   "mimetype": "application/julia",
   "name": "julia",
   "version": "1.3.1"
  }
 },
 "nbformat": 4,
 "nbformat_minor": 2
}
