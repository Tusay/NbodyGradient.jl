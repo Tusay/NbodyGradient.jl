{
 "cells": [
  {
   "cell_type": "code",
   "execution_count": 1,
   "metadata": {},
   "outputs": [],
   "source": [
    "# Transit Timing Example"
   ]
  },
  {
   "cell_type": "code",
   "execution_count": 2,
   "metadata": {},
   "outputs": [],
   "source": [
    "using NbodyGradient"
   ]
  },
  {
   "cell_type": "code",
   "execution_count": 3,
   "metadata": {},
   "outputs": [
    {
     "data": {
      "text/plain": [
       "ElementsIC{Float64}\n",
       "Orbital Elements: \n",
       "3×8 Matrix{Float64}:\n",
       " 0.82        0.0      0.0    0.0     0.0  0.0     0.0  0.0\n",
       " 0.000318  221.717    0.0    0.0069  0.0  1.5708  0.0  0.0\n",
       " 3.0e-6    228.774  -38.129  0.0054  0.0  1.5708  0.0  0.0"
      ]
     },
     "execution_count": 3,
     "metadata": {},
     "output_type": "execute_result"
    }
   ],
   "source": [
    "# Specify the initial conditions:\n",
    "\n",
    "# Fill in system body parameters\n",
    "# Default values are zeros\n",
    "# First, the star \n",
    "a = Elements(m = 0.82)\n",
    "\n",
    "# Next, the planets\n",
    "b = Elements(\n",
    "        m = 3.18e-4,\n",
    "        P = 221.717,\n",
    "        ecosϖ = 0.0069,\n",
    "        I = pi/2,\n",
    ")\n",
    "c = Elements(\n",
    "        m = 3e-6,\n",
    "        P = 228.774,\n",
    "        t0 = -228.774/6, # < We want mean anomaly to be +60 deg, so its\n",
    "        ecosϖ  = 0.0054, #   transit should have about occurred 1/6 of an orbit \n",
    "        I = pi/2         #   prior to the initial time.\n",
    ")\n",
    "\n",
    "# Generate the initial conditions\n",
    "ic = ElementsIC(0.0,3,a,b,c)"
   ]
  },
  {
   "cell_type": "code",
   "execution_count": 4,
   "metadata": {},
   "outputs": [
    {
     "data": {
      "text/plain": [
       "3×3 Matrix{Float64}:\n",
       " -2.16714e-6   -2.16714e-6   0.592581\n",
       "  1.60063e-20  -4.1079e-17  -2.06854e-17\n",
       "  0.000261403  -0.670871    -0.337818"
      ]
     },
     "execution_count": 4,
     "metadata": {},
     "output_type": "execute_result"
    }
   ],
   "source": [
    "# Now, pass the ICs to the State struct, which keeps track of the current state of the system\n",
    "s = State(ic)\n",
    "s.x # positions "
   ]
  },
  {
   "cell_type": "code",
   "execution_count": 5,
   "metadata": {},
   "outputs": [
    {
     "data": {
      "text/plain": [
       "Integrator{Float64, typeof(ahl21!)}(NbodyGradient.ahl21!, 1.0, 0.0, 9837.282)"
      ]
     },
     "execution_count": 5,
     "metadata": {},
     "output_type": "execute_result"
    }
   ],
   "source": [
    "# Set up the integrator.\n",
    "t0 = 0.0        # Initial time\n",
    "h = 1.0         # Time step\n",
    "tmax = 9837.282 # Time to integrate to.\n",
    "\n",
    "intr = Integrator(h, t0, tmax)"
   ]
  },
  {
   "cell_type": "code",
   "execution_count": 6,
   "metadata": {},
   "outputs": [],
   "source": [
    "# If we want to calculate transit times,\n",
    "# simply pass a TransitTiming structure to\n",
    "# the integrator.\n",
    "\n",
    "# Pass tmax and the initial conditions. \n",
    "# This allocates arrays to hold the transit times\n",
    "# and derivatives.\n",
    "tt = TransitTiming(tmax,ic);"
   ]
  },
  {
   "cell_type": "code",
   "execution_count": 7,
   "metadata": {},
   "outputs": [],
   "source": [
    "# Now, run the integrator!\n",
    "intr(s,tt)"
   ]
  },
  {
   "cell_type": "code",
   "execution_count": 12,
   "metadata": {},
   "outputs": [
    {
     "name": "stdout",
     "output_type": "stream",
     "text": [
      "221.80266718923252\n",
      "221.78389784838888\n",
      "221.78392439692527\n"
     ]
    },
    {
     "data": {
      "image/svg+xml": "<?xml version=\"1.0\" encoding=\"utf-8\"?>\n<svg xmlns=\"http://www.w3.org/2000/svg\" xmlns:xlink=\"http://www.w3.org/1999/xlink\" width=\"600\" height=\"400\" viewBox=\"0 0 2400 1600\">\n<defs>\n  <clipPath id=\"clip070\">\n    <rect x=\"0\" y=\"0\" width=\"2400\" height=\"1600\"/>\n  </clipPath>\n</defs>\n<path clip-path=\"url(#clip070)\" d=\"\nM0 1600 L2400 1600 L2400 0 L0 0  Z\n  \" fill=\"#ffffff\" fill-rule=\"evenodd\" fill-opacity=\"1\"/>\n<defs>\n  <clipPath id=\"clip071\">\n    <rect x=\"480\" y=\"0\" width=\"1681\" height=\"1600\"/>\n  </clipPath>\n</defs>\n<path clip-path=\"url(#clip070)\" d=\"\nM192.709 1486.45 L2352.76 1486.45 L2352.76 47.2441 L192.709 47.2441  Z\n  \" fill=\"#ffffff\" fill-rule=\"evenodd\" fill-opacity=\"1\"/>\n<defs>\n  <clipPath id=\"clip072\">\n    <rect x=\"192\" y=\"47\" width=\"2161\" height=\"1440\"/>\n  </clipPath>\n</defs>\n<polyline clip-path=\"url(#clip072)\" style=\"stroke:#000000; stroke-linecap:butt; stroke-linejoin:round; stroke-width:2; stroke-opacity:0.1; fill:none\" points=\"\n  253.843,1486.45 253.843,47.2441 \n  \"/>\n<polyline clip-path=\"url(#clip072)\" style=\"stroke:#000000; stroke-linecap:butt; stroke-linejoin:round; stroke-width:2; stroke-opacity:0.1; fill:none\" points=\"\n  739.028,1486.45 739.028,47.2441 \n  \"/>\n<polyline clip-path=\"url(#clip072)\" style=\"stroke:#000000; stroke-linecap:butt; stroke-linejoin:round; stroke-width:2; stroke-opacity:0.1; fill:none\" points=\"\n  1224.21,1486.45 1224.21,47.2441 \n  \"/>\n<polyline clip-path=\"url(#clip072)\" style=\"stroke:#000000; stroke-linecap:butt; stroke-linejoin:round; stroke-width:2; stroke-opacity:0.1; fill:none\" points=\"\n  1709.4,1486.45 1709.4,47.2441 \n  \"/>\n<polyline clip-path=\"url(#clip072)\" style=\"stroke:#000000; stroke-linecap:butt; stroke-linejoin:round; stroke-width:2; stroke-opacity:0.1; fill:none\" points=\"\n  2194.59,1486.45 2194.59,47.2441 \n  \"/>\n<polyline clip-path=\"url(#clip070)\" style=\"stroke:#000000; stroke-linecap:butt; stroke-linejoin:round; stroke-width:4; stroke-opacity:1; fill:none\" points=\"\n  192.709,1486.45 2352.76,1486.45 \n  \"/>\n<polyline clip-path=\"url(#clip070)\" style=\"stroke:#000000; stroke-linecap:butt; stroke-linejoin:round; stroke-width:4; stroke-opacity:1; fill:none\" points=\"\n  253.843,1486.45 253.843,1467.55 \n  \"/>\n<polyline clip-path=\"url(#clip070)\" style=\"stroke:#000000; stroke-linecap:butt; stroke-linejoin:round; stroke-width:4; stroke-opacity:1; fill:none\" points=\"\n  739.028,1486.45 739.028,1467.55 \n  \"/>\n<polyline clip-path=\"url(#clip070)\" style=\"stroke:#000000; stroke-linecap:butt; stroke-linejoin:round; stroke-width:4; stroke-opacity:1; fill:none\" points=\"\n  1224.21,1486.45 1224.21,1467.55 \n  \"/>\n<polyline clip-path=\"url(#clip070)\" style=\"stroke:#000000; stroke-linecap:butt; stroke-linejoin:round; stroke-width:4; stroke-opacity:1; fill:none\" points=\"\n  1709.4,1486.45 1709.4,1467.55 \n  \"/>\n<polyline clip-path=\"url(#clip070)\" style=\"stroke:#000000; stroke-linecap:butt; stroke-linejoin:round; stroke-width:4; stroke-opacity:1; fill:none\" points=\"\n  2194.59,1486.45 2194.59,1467.55 \n  \"/>\n<path clip-path=\"url(#clip070)\" d=\"M253.843 1517.37 Q250.231 1517.37 248.403 1520.93 Q246.597 1524.47 246.597 1531.6 Q246.597 1538.71 248.403 1542.27 Q250.231 1545.82 253.843 1545.82 Q257.477 1545.82 259.282 1542.27 Q261.111 1538.71 261.111 1531.6 Q261.111 1524.47 259.282 1520.93 Q257.477 1517.37 253.843 1517.37 M253.843 1513.66 Q259.653 1513.66 262.708 1518.27 Q265.787 1522.85 265.787 1531.6 Q265.787 1540.33 262.708 1544.94 Q259.653 1549.52 253.843 1549.52 Q248.032 1549.52 244.954 1544.94 Q241.898 1540.33 241.898 1531.6 Q241.898 1522.85 244.954 1518.27 Q248.032 1513.66 253.843 1513.66 Z\" fill=\"#000000\" fill-rule=\"evenodd\" fill-opacity=\"1\" /><path clip-path=\"url(#clip070)\" d=\"M713.716 1544.91 L721.355 1544.91 L721.355 1518.55 L713.045 1520.21 L713.045 1515.95 L721.308 1514.29 L725.984 1514.29 L725.984 1544.91 L733.623 1544.91 L733.623 1548.85 L713.716 1548.85 L713.716 1544.91 Z\" fill=\"#000000\" fill-rule=\"evenodd\" fill-opacity=\"1\" /><path clip-path=\"url(#clip070)\" d=\"M753.068 1517.37 Q749.456 1517.37 747.628 1520.93 Q745.822 1524.47 745.822 1531.6 Q745.822 1538.71 747.628 1542.27 Q749.456 1545.82 753.068 1545.82 Q756.702 1545.82 758.507 1542.27 Q760.336 1538.71 760.336 1531.6 Q760.336 1524.47 758.507 1520.93 Q756.702 1517.37 753.068 1517.37 M753.068 1513.66 Q758.878 1513.66 761.933 1518.27 Q765.012 1522.85 765.012 1531.6 Q765.012 1540.33 761.933 1544.94 Q758.878 1549.52 753.068 1549.52 Q747.257 1549.52 744.179 1544.94 Q741.123 1540.33 741.123 1531.6 Q741.123 1522.85 744.179 1518.27 Q747.257 1513.66 753.068 1513.66 Z\" fill=\"#000000\" fill-rule=\"evenodd\" fill-opacity=\"1\" /><path clip-path=\"url(#clip070)\" d=\"M1202.99 1544.91 L1219.31 1544.91 L1219.31 1548.85 L1197.36 1548.85 L1197.36 1544.91 Q1200.02 1542.16 1204.61 1537.53 Q1209.21 1532.88 1210.39 1531.53 Q1212.64 1529.01 1213.52 1527.27 Q1214.42 1525.51 1214.42 1523.82 Q1214.42 1521.07 1212.48 1519.33 Q1210.56 1517.6 1207.45 1517.6 Q1205.26 1517.6 1202.8 1518.36 Q1200.37 1519.13 1197.59 1520.68 L1197.59 1515.95 Q1200.42 1514.82 1202.87 1514.24 Q1205.33 1513.66 1207.36 1513.66 Q1212.73 1513.66 1215.93 1516.35 Q1219.12 1519.03 1219.12 1523.52 Q1219.12 1525.65 1218.31 1527.57 Q1217.52 1529.47 1215.42 1532.07 Q1214.84 1532.74 1211.74 1535.95 Q1208.64 1539.15 1202.99 1544.91 Z\" fill=\"#000000\" fill-rule=\"evenodd\" fill-opacity=\"1\" /><path clip-path=\"url(#clip070)\" d=\"M1239.12 1517.37 Q1235.51 1517.37 1233.68 1520.93 Q1231.88 1524.47 1231.88 1531.6 Q1231.88 1538.71 1233.68 1542.27 Q1235.51 1545.82 1239.12 1545.82 Q1242.76 1545.82 1244.56 1542.27 Q1246.39 1538.71 1246.39 1531.6 Q1246.39 1524.47 1244.56 1520.93 Q1242.76 1517.37 1239.12 1517.37 M1239.12 1513.66 Q1244.93 1513.66 1247.99 1518.27 Q1251.07 1522.85 1251.07 1531.6 Q1251.07 1540.33 1247.99 1544.94 Q1244.93 1549.52 1239.12 1549.52 Q1233.31 1549.52 1230.23 1544.94 Q1227.18 1540.33 1227.18 1531.6 Q1227.18 1522.85 1230.23 1518.27 Q1233.31 1513.66 1239.12 1513.66 Z\" fill=\"#000000\" fill-rule=\"evenodd\" fill-opacity=\"1\" /><path clip-path=\"url(#clip070)\" d=\"M1698.24 1530.21 Q1701.6 1530.93 1703.47 1533.2 Q1705.37 1535.47 1705.37 1538.8 Q1705.37 1543.92 1701.85 1546.72 Q1698.33 1549.52 1691.85 1549.52 Q1689.68 1549.52 1687.36 1549.08 Q1685.07 1548.66 1682.62 1547.81 L1682.62 1543.29 Q1684.56 1544.43 1686.88 1545.01 Q1689.19 1545.58 1691.71 1545.58 Q1696.11 1545.58 1698.4 1543.85 Q1700.72 1542.11 1700.72 1538.8 Q1700.72 1535.75 1698.57 1534.03 Q1696.44 1532.3 1692.62 1532.3 L1688.59 1532.3 L1688.59 1528.45 L1692.8 1528.45 Q1696.25 1528.45 1698.08 1527.09 Q1699.91 1525.7 1699.91 1523.11 Q1699.91 1520.45 1698.01 1519.03 Q1696.14 1517.6 1692.62 1517.6 Q1690.7 1517.6 1688.5 1518.01 Q1686.3 1518.43 1683.66 1519.31 L1683.66 1515.14 Q1686.32 1514.4 1688.64 1514.03 Q1690.97 1513.66 1693.03 1513.66 Q1698.36 1513.66 1701.46 1516.09 Q1704.56 1518.5 1704.56 1522.62 Q1704.56 1525.49 1702.92 1527.48 Q1701.27 1529.45 1698.24 1530.21 Z\" fill=\"#000000\" fill-rule=\"evenodd\" fill-opacity=\"1\" /><path clip-path=\"url(#clip070)\" d=\"M1724.24 1517.37 Q1720.63 1517.37 1718.8 1520.93 Q1716.99 1524.47 1716.99 1531.6 Q1716.99 1538.71 1718.8 1542.27 Q1720.63 1545.82 1724.24 1545.82 Q1727.87 1545.82 1729.68 1542.27 Q1731.51 1538.71 1731.51 1531.6 Q1731.51 1524.47 1729.68 1520.93 Q1727.87 1517.37 1724.24 1517.37 M1724.24 1513.66 Q1730.05 1513.66 1733.1 1518.27 Q1736.18 1522.85 1736.18 1531.6 Q1736.18 1540.33 1733.1 1544.94 Q1730.05 1549.52 1724.24 1549.52 Q1718.43 1549.52 1715.35 1544.94 Q1712.29 1540.33 1712.29 1531.6 Q1712.29 1522.85 1715.35 1518.27 Q1718.43 1513.66 1724.24 1513.66 Z\" fill=\"#000000\" fill-rule=\"evenodd\" fill-opacity=\"1\" /><path clip-path=\"url(#clip070)\" d=\"M2182.76 1518.36 L2170.95 1536.81 L2182.76 1536.81 L2182.76 1518.36 M2181.53 1514.29 L2187.41 1514.29 L2187.41 1536.81 L2192.34 1536.81 L2192.34 1540.7 L2187.41 1540.7 L2187.41 1548.85 L2182.76 1548.85 L2182.76 1540.7 L2167.15 1540.7 L2167.15 1536.19 L2181.53 1514.29 Z\" fill=\"#000000\" fill-rule=\"evenodd\" fill-opacity=\"1\" /><path clip-path=\"url(#clip070)\" d=\"M2210.07 1517.37 Q2206.46 1517.37 2204.63 1520.93 Q2202.83 1524.47 2202.83 1531.6 Q2202.83 1538.71 2204.63 1542.27 Q2206.46 1545.82 2210.07 1545.82 Q2213.71 1545.82 2215.51 1542.27 Q2217.34 1538.71 2217.34 1531.6 Q2217.34 1524.47 2215.51 1520.93 Q2213.71 1517.37 2210.07 1517.37 M2210.07 1513.66 Q2215.88 1513.66 2218.94 1518.27 Q2222.02 1522.85 2222.02 1531.6 Q2222.02 1540.33 2218.94 1544.94 Q2215.88 1549.52 2210.07 1549.52 Q2204.26 1549.52 2201.18 1544.94 Q2198.13 1540.33 2198.13 1531.6 Q2198.13 1522.85 2201.18 1518.27 Q2204.26 1513.66 2210.07 1513.66 Z\" fill=\"#000000\" fill-rule=\"evenodd\" fill-opacity=\"1\" /><polyline clip-path=\"url(#clip072)\" style=\"stroke:#000000; stroke-linecap:butt; stroke-linejoin:round; stroke-width:2; stroke-opacity:0.1; fill:none\" points=\"\n  192.709,1306.65 2352.76,1306.65 \n  \"/>\n<polyline clip-path=\"url(#clip072)\" style=\"stroke:#000000; stroke-linecap:butt; stroke-linejoin:round; stroke-width:2; stroke-opacity:0.1; fill:none\" points=\"\n  192.709,1022.15 2352.76,1022.15 \n  \"/>\n<polyline clip-path=\"url(#clip072)\" style=\"stroke:#000000; stroke-linecap:butt; stroke-linejoin:round; stroke-width:2; stroke-opacity:0.1; fill:none\" points=\"\n  192.709,737.647 2352.76,737.647 \n  \"/>\n<polyline clip-path=\"url(#clip072)\" style=\"stroke:#000000; stroke-linecap:butt; stroke-linejoin:round; stroke-width:2; stroke-opacity:0.1; fill:none\" points=\"\n  192.709,453.143 2352.76,453.143 \n  \"/>\n<polyline clip-path=\"url(#clip072)\" style=\"stroke:#000000; stroke-linecap:butt; stroke-linejoin:round; stroke-width:2; stroke-opacity:0.1; fill:none\" points=\"\n  192.709,168.639 2352.76,168.639 \n  \"/>\n<polyline clip-path=\"url(#clip070)\" style=\"stroke:#000000; stroke-linecap:butt; stroke-linejoin:round; stroke-width:4; stroke-opacity:1; fill:none\" points=\"\n  192.709,1486.45 192.709,47.2441 \n  \"/>\n<polyline clip-path=\"url(#clip070)\" style=\"stroke:#000000; stroke-linecap:butt; stroke-linejoin:round; stroke-width:4; stroke-opacity:1; fill:none\" points=\"\n  192.709,1306.65 211.607,1306.65 \n  \"/>\n<polyline clip-path=\"url(#clip070)\" style=\"stroke:#000000; stroke-linecap:butt; stroke-linejoin:round; stroke-width:4; stroke-opacity:1; fill:none\" points=\"\n  192.709,1022.15 211.607,1022.15 \n  \"/>\n<polyline clip-path=\"url(#clip070)\" style=\"stroke:#000000; stroke-linecap:butt; stroke-linejoin:round; stroke-width:4; stroke-opacity:1; fill:none\" points=\"\n  192.709,737.647 211.607,737.647 \n  \"/>\n<polyline clip-path=\"url(#clip070)\" style=\"stroke:#000000; stroke-linecap:butt; stroke-linejoin:round; stroke-width:4; stroke-opacity:1; fill:none\" points=\"\n  192.709,453.143 211.607,453.143 \n  \"/>\n<polyline clip-path=\"url(#clip070)\" style=\"stroke:#000000; stroke-linecap:butt; stroke-linejoin:round; stroke-width:4; stroke-opacity:1; fill:none\" points=\"\n  192.709,168.639 211.607,168.639 \n  \"/>\n<path clip-path=\"url(#clip070)\" d=\"M50.9921 1307.11 L80.6679 1307.11 L80.6679 1311.04 L50.9921 1311.04 L50.9921 1307.11 Z\" fill=\"#000000\" fill-rule=\"evenodd\" fill-opacity=\"1\" /><path clip-path=\"url(#clip070)\" d=\"M100.76 1292.45 Q97.1493 1292.45 95.3206 1296.02 Q93.515 1299.56 93.515 1306.69 Q93.515 1313.8 95.3206 1317.36 Q97.1493 1320.9 100.76 1320.9 Q104.395 1320.9 106.2 1317.36 Q108.029 1313.8 108.029 1306.69 Q108.029 1299.56 106.2 1296.02 Q104.395 1292.45 100.76 1292.45 M100.76 1288.75 Q106.571 1288.75 109.626 1293.36 Q112.705 1297.94 112.705 1306.69 Q112.705 1315.42 109.626 1320.02 Q106.571 1324.61 100.76 1324.61 Q94.9502 1324.61 91.8715 1320.02 Q88.816 1315.42 88.816 1306.69 Q88.816 1297.94 91.8715 1293.36 Q94.9502 1288.75 100.76 1288.75 Z\" fill=\"#000000\" fill-rule=\"evenodd\" fill-opacity=\"1\" /><path clip-path=\"url(#clip070)\" d=\"M120.922 1318.05 L125.807 1318.05 L125.807 1323.93 L120.922 1323.93 L120.922 1318.05 Z\" fill=\"#000000\" fill-rule=\"evenodd\" fill-opacity=\"1\" /><path clip-path=\"url(#clip070)\" d=\"M136.802 1320 L144.441 1320 L144.441 1293.63 L136.131 1295.3 L136.131 1291.04 L144.394 1289.37 L149.07 1289.37 L149.07 1320 L156.709 1320 L156.709 1323.93 L136.802 1323.93 L136.802 1320 Z\" fill=\"#000000\" fill-rule=\"evenodd\" fill-opacity=\"1\" /><path clip-path=\"url(#clip070)\" d=\"M99.5335 1007.95 Q95.9224 1007.95 94.0937 1011.51 Q92.2882 1015.06 92.2882 1022.19 Q92.2882 1029.29 94.0937 1032.86 Q95.9224 1036.4 99.5335 1036.4 Q103.168 1036.4 104.973 1032.86 Q106.802 1029.29 106.802 1022.19 Q106.802 1015.06 104.973 1011.51 Q103.168 1007.95 99.5335 1007.95 M99.5335 1004.25 Q105.344 1004.25 108.399 1008.85 Q111.478 1013.44 111.478 1022.19 Q111.478 1030.91 108.399 1035.52 Q105.344 1040.1 99.5335 1040.1 Q93.7234 1040.1 90.6447 1035.52 Q87.5892 1030.91 87.5892 1022.19 Q87.5892 1013.44 90.6447 1008.85 Q93.7234 1004.25 99.5335 1004.25 Z\" fill=\"#000000\" fill-rule=\"evenodd\" fill-opacity=\"1\" /><path clip-path=\"url(#clip070)\" d=\"M119.695 1033.55 L124.58 1033.55 L124.58 1039.43 L119.695 1039.43 L119.695 1033.55 Z\" fill=\"#000000\" fill-rule=\"evenodd\" fill-opacity=\"1\" /><path clip-path=\"url(#clip070)\" d=\"M144.765 1007.95 Q141.154 1007.95 139.325 1011.51 Q137.519 1015.06 137.519 1022.19 Q137.519 1029.29 139.325 1032.86 Q141.154 1036.4 144.765 1036.4 Q148.399 1036.4 150.205 1032.86 Q152.033 1029.29 152.033 1022.19 Q152.033 1015.06 150.205 1011.51 Q148.399 1007.95 144.765 1007.95 M144.765 1004.25 Q150.575 1004.25 153.63 1008.85 Q156.709 1013.44 156.709 1022.19 Q156.709 1030.91 153.63 1035.52 Q150.575 1040.1 144.765 1040.1 Q138.955 1040.1 135.876 1035.52 Q132.82 1030.91 132.82 1022.19 Q132.82 1013.44 135.876 1008.85 Q138.955 1004.25 144.765 1004.25 Z\" fill=\"#000000\" fill-rule=\"evenodd\" fill-opacity=\"1\" /><path clip-path=\"url(#clip070)\" d=\"M100.76 723.445 Q97.1493 723.445 95.3206 727.01 Q93.515 730.552 93.515 737.681 Q93.515 744.788 95.3206 748.353 Q97.1493 751.894 100.76 751.894 Q104.395 751.894 106.2 748.353 Q108.029 744.788 108.029 737.681 Q108.029 730.552 106.2 727.01 Q104.395 723.445 100.76 723.445 M100.76 719.742 Q106.571 719.742 109.626 724.348 Q112.705 728.931 112.705 737.681 Q112.705 746.408 109.626 751.015 Q106.571 755.598 100.76 755.598 Q94.9502 755.598 91.8715 751.015 Q88.816 746.408 88.816 737.681 Q88.816 728.931 91.8715 724.348 Q94.9502 719.742 100.76 719.742 Z\" fill=\"#000000\" fill-rule=\"evenodd\" fill-opacity=\"1\" /><path clip-path=\"url(#clip070)\" d=\"M120.922 749.047 L125.807 749.047 L125.807 754.927 L120.922 754.927 L120.922 749.047 Z\" fill=\"#000000\" fill-rule=\"evenodd\" fill-opacity=\"1\" /><path clip-path=\"url(#clip070)\" d=\"M136.802 750.991 L144.441 750.991 L144.441 724.626 L136.131 726.292 L136.131 722.033 L144.394 720.367 L149.07 720.367 L149.07 750.991 L156.709 750.991 L156.709 754.927 L136.802 754.927 L136.802 750.991 Z\" fill=\"#000000\" fill-rule=\"evenodd\" fill-opacity=\"1\" /><path clip-path=\"url(#clip070)\" d=\"M101.131 438.941 Q97.5197 438.941 95.691 442.506 Q93.8854 446.048 93.8854 453.177 Q93.8854 460.284 95.691 463.849 Q97.5197 467.39 101.131 467.39 Q104.765 467.39 106.571 463.849 Q108.399 460.284 108.399 453.177 Q108.399 446.048 106.571 442.506 Q104.765 438.941 101.131 438.941 M101.131 435.238 Q106.941 435.238 109.996 439.844 Q113.075 444.427 113.075 453.177 Q113.075 461.904 109.996 466.511 Q106.941 471.094 101.131 471.094 Q95.3206 471.094 92.2419 466.511 Q89.1864 461.904 89.1864 453.177 Q89.1864 444.427 92.2419 439.844 Q95.3206 435.238 101.131 435.238 Z\" fill=\"#000000\" fill-rule=\"evenodd\" fill-opacity=\"1\" /><path clip-path=\"url(#clip070)\" d=\"M121.293 464.543 L126.177 464.543 L126.177 470.423 L121.293 470.423 L121.293 464.543 Z\" fill=\"#000000\" fill-rule=\"evenodd\" fill-opacity=\"1\" /><path clip-path=\"url(#clip070)\" d=\"M140.39 466.487 L156.709 466.487 L156.709 470.423 L134.765 470.423 L134.765 466.487 Q137.427 463.733 142.01 459.103 Q146.617 454.45 147.797 453.108 Q150.043 450.585 150.922 448.849 Q151.825 447.089 151.825 445.4 Q151.825 442.645 149.88 440.909 Q147.959 439.173 144.857 439.173 Q142.658 439.173 140.205 439.937 Q137.774 440.701 134.996 442.251 L134.996 437.529 Q137.82 436.395 140.274 435.816 Q142.728 435.238 144.765 435.238 Q150.135 435.238 153.33 437.923 Q156.524 440.608 156.524 445.099 Q156.524 447.228 155.714 449.15 Q154.927 451.048 152.82 453.64 Q152.242 454.312 149.14 457.529 Q146.038 460.724 140.39 466.487 Z\" fill=\"#000000\" fill-rule=\"evenodd\" fill-opacity=\"1\" /><path clip-path=\"url(#clip070)\" d=\"M100.182 154.437 Q96.5706 154.437 94.7419 158.002 Q92.9363 161.544 92.9363 168.673 Q92.9363 175.78 94.7419 179.345 Q96.5706 182.886 100.182 182.886 Q103.816 182.886 105.621 179.345 Q107.45 175.78 107.45 168.673 Q107.45 161.544 105.621 158.002 Q103.816 154.437 100.182 154.437 M100.182 150.734 Q105.992 150.734 109.047 155.34 Q112.126 159.923 112.126 168.673 Q112.126 177.4 109.047 182.007 Q105.992 186.59 100.182 186.59 Q94.3715 186.59 91.2928 182.007 Q88.2373 177.4 88.2373 168.673 Q88.2373 159.923 91.2928 155.34 Q94.3715 150.734 100.182 150.734 Z\" fill=\"#000000\" fill-rule=\"evenodd\" fill-opacity=\"1\" /><path clip-path=\"url(#clip070)\" d=\"M120.344 180.039 L125.228 180.039 L125.228 185.919 L120.344 185.919 L120.344 180.039 Z\" fill=\"#000000\" fill-rule=\"evenodd\" fill-opacity=\"1\" /><path clip-path=\"url(#clip070)\" d=\"M149.58 167.285 Q152.936 168.002 154.811 170.271 Q156.709 172.539 156.709 175.872 Q156.709 180.988 153.191 183.789 Q149.672 186.59 143.191 186.59 Q141.015 186.59 138.7 186.15 Q136.408 185.733 133.955 184.877 L133.955 180.363 Q135.899 181.497 138.214 182.076 Q140.529 182.655 143.052 182.655 Q147.45 182.655 149.742 180.919 Q152.056 179.183 152.056 175.872 Q152.056 172.817 149.904 171.104 Q147.774 169.368 143.955 169.368 L139.927 169.368 L139.927 165.525 L144.14 165.525 Q147.589 165.525 149.418 164.16 Q151.246 162.771 151.246 160.178 Q151.246 157.516 149.348 156.104 Q147.473 154.669 143.955 154.669 Q142.033 154.669 139.834 155.086 Q137.635 155.502 134.996 156.382 L134.996 152.215 Q137.658 151.474 139.973 151.104 Q142.311 150.734 144.371 150.734 Q149.695 150.734 152.797 153.164 Q155.899 155.572 155.899 159.692 Q155.899 162.562 154.255 164.553 Q152.612 166.521 149.58 167.285 Z\" fill=\"#000000\" fill-rule=\"evenodd\" fill-opacity=\"1\" /><polyline clip-path=\"url(#clip072)\" style=\"stroke:#009af9; stroke-linecap:butt; stroke-linejoin:round; stroke-width:4; stroke-opacity:1; fill:none\" points=\"\n  253.843,1022.15 302.361,1241.04 350.88,1394.83 399.398,1445.72 447.917,1395.79 496.435,1285.03 544.954,1152.12 593.473,1022.15 \n  \"/>\n<circle clip-path=\"url(#clip072)\" cx=\"253.843\" cy=\"1022.15\" r=\"14.4\" fill=\"#e26f46\" fill-rule=\"evenodd\" fill-opacity=\"1\" stroke=\"#000000\" stroke-opacity=\"1\" stroke-width=\"3.2\"/>\n<circle clip-path=\"url(#clip072)\" cx=\"302.361\" cy=\"1187.64\" r=\"14.4\" fill=\"#e26f46\" fill-rule=\"evenodd\" fill-opacity=\"1\" stroke=\"#000000\" stroke-opacity=\"1\" stroke-width=\"3.2\"/>\n<circle clip-path=\"url(#clip072)\" cx=\"350.88\" cy=\"1288.04\" r=\"14.4\" fill=\"#e26f46\" fill-rule=\"evenodd\" fill-opacity=\"1\" stroke=\"#000000\" stroke-opacity=\"1\" stroke-width=\"3.2\"/>\n<circle clip-path=\"url(#clip072)\" cx=\"399.398\" cy=\"1285.52\" r=\"14.4\" fill=\"#e26f46\" fill-rule=\"evenodd\" fill-opacity=\"1\" stroke=\"#000000\" stroke-opacity=\"1\" stroke-width=\"3.2\"/>\n<circle clip-path=\"url(#clip072)\" cx=\"447.917\" cy=\"1182.2\" r=\"14.4\" fill=\"#e26f46\" fill-rule=\"evenodd\" fill-opacity=\"1\" stroke=\"#000000\" stroke-opacity=\"1\" stroke-width=\"3.2\"/>\n<circle clip-path=\"url(#clip072)\" cx=\"496.435\" cy=\"1018.03\" r=\"14.4\" fill=\"#e26f46\" fill-rule=\"evenodd\" fill-opacity=\"1\" stroke=\"#000000\" stroke-opacity=\"1\" stroke-width=\"3.2\"/>\n<circle clip-path=\"url(#clip072)\" cx=\"544.954\" cy=\"831.727\" r=\"14.4\" fill=\"#e26f46\" fill-rule=\"evenodd\" fill-opacity=\"1\" stroke=\"#000000\" stroke-opacity=\"1\" stroke-width=\"3.2\"/>\n<circle clip-path=\"url(#clip072)\" cx=\"593.473\" cy=\"648.354\" r=\"14.4\" fill=\"#e26f46\" fill-rule=\"evenodd\" fill-opacity=\"1\" stroke=\"#000000\" stroke-opacity=\"1\" stroke-width=\"3.2\"/>\n<circle clip-path=\"url(#clip072)\" cx=\"641.991\" cy=\"482.51\" r=\"14.4\" fill=\"#e26f46\" fill-rule=\"evenodd\" fill-opacity=\"1\" stroke=\"#000000\" stroke-opacity=\"1\" stroke-width=\"3.2\"/>\n<circle clip-path=\"url(#clip072)\" cx=\"690.51\" cy=\"342.197\" r=\"14.4\" fill=\"#e26f46\" fill-rule=\"evenodd\" fill-opacity=\"1\" stroke=\"#000000\" stroke-opacity=\"1\" stroke-width=\"3.2\"/>\n<circle clip-path=\"url(#clip072)\" cx=\"739.028\" cy=\"231.417\" r=\"14.4\" fill=\"#e26f46\" fill-rule=\"evenodd\" fill-opacity=\"1\" stroke=\"#000000\" stroke-opacity=\"1\" stroke-width=\"3.2\"/>\n<circle clip-path=\"url(#clip072)\" cx=\"787.547\" cy=\"151.869\" r=\"14.4\" fill=\"#e26f46\" fill-rule=\"evenodd\" fill-opacity=\"1\" stroke=\"#000000\" stroke-opacity=\"1\" stroke-width=\"3.2\"/>\n<circle clip-path=\"url(#clip072)\" cx=\"836.065\" cy=\"104.055\" r=\"14.4\" fill=\"#e26f46\" fill-rule=\"evenodd\" fill-opacity=\"1\" stroke=\"#000000\" stroke-opacity=\"1\" stroke-width=\"3.2\"/>\n<circle clip-path=\"url(#clip072)\" cx=\"884.584\" cy=\"87.9763\" r=\"14.4\" fill=\"#e26f46\" fill-rule=\"evenodd\" fill-opacity=\"1\" stroke=\"#000000\" stroke-opacity=\"1\" stroke-width=\"3.2\"/>\n<circle clip-path=\"url(#clip072)\" cx=\"933.103\" cy=\"103.51\" r=\"14.4\" fill=\"#e26f46\" fill-rule=\"evenodd\" fill-opacity=\"1\" stroke=\"#000000\" stroke-opacity=\"1\" stroke-width=\"3.2\"/>\n<circle clip-path=\"url(#clip072)\" cx=\"981.621\" cy=\"150.554\" r=\"14.4\" fill=\"#e26f46\" fill-rule=\"evenodd\" fill-opacity=\"1\" stroke=\"#000000\" stroke-opacity=\"1\" stroke-width=\"3.2\"/>\n<circle clip-path=\"url(#clip072)\" cx=\"1030.14\" cy=\"228.949\" r=\"14.4\" fill=\"#e26f46\" fill-rule=\"evenodd\" fill-opacity=\"1\" stroke=\"#000000\" stroke-opacity=\"1\" stroke-width=\"3.2\"/>\n<circle clip-path=\"url(#clip072)\" cx=\"1078.66\" cy=\"338.195\" r=\"14.4\" fill=\"#e26f46\" fill-rule=\"evenodd\" fill-opacity=\"1\" stroke=\"#000000\" stroke-opacity=\"1\" stroke-width=\"3.2\"/>\n<circle clip-path=\"url(#clip072)\" cx=\"1127.18\" cy=\"476.914\" r=\"14.4\" fill=\"#e26f46\" fill-rule=\"evenodd\" fill-opacity=\"1\" stroke=\"#000000\" stroke-opacity=\"1\" stroke-width=\"3.2\"/>\n<circle clip-path=\"url(#clip072)\" cx=\"1175.7\" cy=\"642.012\" r=\"14.4\" fill=\"#e26f46\" fill-rule=\"evenodd\" fill-opacity=\"1\" stroke=\"#000000\" stroke-opacity=\"1\" stroke-width=\"3.2\"/>\n<circle clip-path=\"url(#clip072)\" cx=\"1224.21\" cy=\"827.412\" r=\"14.4\" fill=\"#e26f46\" fill-rule=\"evenodd\" fill-opacity=\"1\" stroke=\"#000000\" stroke-opacity=\"1\" stroke-width=\"3.2\"/>\n<circle clip-path=\"url(#clip072)\" cx=\"1272.73\" cy=\"1022.15\" r=\"14.4\" fill=\"#e26f46\" fill-rule=\"evenodd\" fill-opacity=\"1\" stroke=\"#000000\" stroke-opacity=\"1\" stroke-width=\"3.2\"/>\n<polyline clip-path=\"url(#clip072)\" style=\"stroke:#3da44d; stroke-linecap:butt; stroke-linejoin:round; stroke-width:4; stroke-opacity:1; fill:none\" points=\"\n  253.843,1022.15 302.361,1187.72 350.88,1288.19 399.398,1285.74 447.917,1182.5 496.435,1018.41 544.954,832.18 593.473,648.883 641.991,483.114 690.51,342.877 \n  739.028,232.172 787.547,152.7 836.065,104.962 884.584,88.9582 933.103,104.568 981.621,151.687 1030.14,230.158 1078.66,339.479 1127.18,478.273 1175.7,643.447 \n  1224.21,828.922 1272.73,1023.74 1321.25,1209.06 1369.77,1354.1 1418.29,1416.98 1466.81,1371.32 1515.33,1238.58 1563.84,1061.86 1612.36,874.485 1660.88,696.83 \n  1709.4,540.494 1757.92,411.642 1806.44,313.198 1854.96,246.281 1903.47,211.13 1951.99,207.667 2000.51,235.773 2049.03,295.345 2097.55,386.134 2146.07,507.373 \n  2194.59,657.127 2243.1,831.298 2291.62,1022.15 \n  \"/>\n<path clip-path=\"url(#clip070)\" d=\"\nM1987.74 302.578 L2280.75 302.578 L2280.75 95.2176 L1987.74 95.2176  Z\n  \" fill=\"#ffffff\" fill-rule=\"evenodd\" fill-opacity=\"1\"/>\n<polyline clip-path=\"url(#clip070)\" style=\"stroke:#000000; stroke-linecap:butt; stroke-linejoin:round; stroke-width:4; stroke-opacity:1; fill:none\" points=\"\n  1987.74,302.578 2280.75,302.578 2280.75,95.2176 1987.74,95.2176 1987.74,302.578 \n  \"/>\n<polyline clip-path=\"url(#clip070)\" style=\"stroke:#009af9; stroke-linecap:butt; stroke-linejoin:round; stroke-width:4; stroke-opacity:1; fill:none\" points=\"\n  2011.74,147.058 2155.74,147.058 \n  \"/>\n<path clip-path=\"url(#clip070)\" d=\"M2193.59 166.745 Q2191.78 171.375 2190.07 172.787 Q2188.36 174.199 2185.49 174.199 L2182.08 174.199 L2182.08 170.634 L2184.58 170.634 Q2186.34 170.634 2187.31 169.8 Q2188.29 168.967 2189.47 165.865 L2190.23 163.921 L2179.74 138.412 L2184.26 138.412 L2192.36 158.689 L2200.46 138.412 L2204.98 138.412 L2193.59 166.745 Z\" fill=\"#000000\" fill-rule=\"evenodd\" fill-opacity=\"1\" /><path clip-path=\"url(#clip070)\" d=\"M2212.27 160.402 L2219.91 160.402 L2219.91 134.037 L2211.6 135.703 L2211.6 131.444 L2219.86 129.778 L2224.54 129.778 L2224.54 160.402 L2232.17 160.402 L2232.17 164.338 L2212.27 164.338 L2212.27 160.402 Z\" fill=\"#000000\" fill-rule=\"evenodd\" fill-opacity=\"1\" /><circle clip-path=\"url(#clip070)\" cx=\"2083.74\" cy=\"198.898\" r=\"23.04\" fill=\"#e26f46\" fill-rule=\"evenodd\" fill-opacity=\"1\" stroke=\"#000000\" stroke-opacity=\"1\" stroke-width=\"5.12\"/>\n<path clip-path=\"url(#clip070)\" d=\"M2193.59 218.585 Q2191.78 223.215 2190.07 224.627 Q2188.36 226.039 2185.49 226.039 L2182.08 226.039 L2182.08 222.474 L2184.58 222.474 Q2186.34 222.474 2187.31 221.64 Q2188.29 220.807 2189.47 217.705 L2190.23 215.761 L2179.74 190.252 L2184.26 190.252 L2192.36 210.529 L2200.46 190.252 L2204.98 190.252 L2193.59 218.585 Z\" fill=\"#000000\" fill-rule=\"evenodd\" fill-opacity=\"1\" /><path clip-path=\"url(#clip070)\" d=\"M2215.48 212.242 L2231.8 212.242 L2231.8 216.178 L2209.86 216.178 L2209.86 212.242 Q2212.52 209.488 2217.11 204.858 Q2221.71 200.205 2222.89 198.863 Q2225.14 196.34 2226.02 194.604 Q2226.92 192.844 2226.92 191.155 Q2226.92 188.4 2224.98 186.664 Q2223.05 184.928 2219.95 184.928 Q2217.75 184.928 2215.3 185.692 Q2212.87 186.455 2210.09 188.006 L2210.09 183.284 Q2212.92 182.15 2215.37 181.571 Q2217.82 180.993 2219.86 180.993 Q2225.23 180.993 2228.42 183.678 Q2231.62 186.363 2231.62 190.854 Q2231.62 192.983 2230.81 194.905 Q2230.02 196.803 2227.92 199.395 Q2227.34 200.067 2224.23 203.284 Q2221.13 206.479 2215.48 212.242 Z\" fill=\"#000000\" fill-rule=\"evenodd\" fill-opacity=\"1\" /><polyline clip-path=\"url(#clip070)\" style=\"stroke:#3da44d; stroke-linecap:butt; stroke-linejoin:round; stroke-width:4; stroke-opacity:1; fill:none\" points=\"\n  2011.74,250.738 2155.74,250.738 \n  \"/>\n<path clip-path=\"url(#clip070)\" d=\"M2193.59 270.425 Q2191.78 275.055 2190.07 276.467 Q2188.36 277.879 2185.49 277.879 L2182.08 277.879 L2182.08 274.314 L2184.58 274.314 Q2186.34 274.314 2187.31 273.48 Q2188.29 272.647 2189.47 269.545 L2190.23 267.601 L2179.74 242.092 L2184.26 242.092 L2192.36 262.369 L2200.46 242.092 L2204.98 242.092 L2193.59 270.425 Z\" fill=\"#000000\" fill-rule=\"evenodd\" fill-opacity=\"1\" /><path clip-path=\"url(#clip070)\" d=\"M2225.62 249.383 Q2228.98 250.101 2230.86 252.369 Q2232.75 254.638 2232.75 257.971 Q2232.75 263.087 2229.23 265.888 Q2225.72 268.689 2219.23 268.689 Q2217.06 268.689 2214.74 268.249 Q2212.45 267.832 2210 266.976 L2210 262.462 Q2211.94 263.596 2214.26 264.175 Q2216.57 264.754 2219.1 264.754 Q2223.49 264.754 2225.79 263.018 Q2228.1 261.281 2228.1 257.971 Q2228.1 254.916 2225.95 253.203 Q2223.82 251.467 2220 251.467 L2215.97 251.467 L2215.97 247.624 L2220.18 247.624 Q2223.63 247.624 2225.46 246.258 Q2227.29 244.87 2227.29 242.277 Q2227.29 239.615 2225.39 238.203 Q2223.52 236.768 2220 236.768 Q2218.08 236.768 2215.88 237.184 Q2213.68 237.601 2211.04 238.481 L2211.04 234.314 Q2213.7 233.573 2216.02 233.203 Q2218.36 232.833 2220.42 232.833 Q2225.74 232.833 2228.84 235.263 Q2231.94 237.67 2231.94 241.791 Q2231.94 244.661 2230.3 246.652 Q2228.66 248.62 2225.62 249.383 Z\" fill=\"#000000\" fill-rule=\"evenodd\" fill-opacity=\"1\" /></svg>\n"
     },
     "execution_count": 12,
     "metadata": {},
     "output_type": "execute_result"
    }
   ],
   "source": [
    "using Plots, Statistics\n",
    "\n",
    "# plot the transit timing variations\n",
    "t1 = tt.tt[2,1:tt.count[2]]\n",
    "nplot = [8,22,43]\n",
    "for iplot=1:3\n",
    "  pavg = mean(t1[2:nplot[iplot]] - t1[1:nplot[iplot]-1])\n",
    "  it = collect(0:1:nplot[iplot]-1)\n",
    "  ttv1 = t1[1:nplot[iplot]] .- it .* pavg .- t1[1]\n",
    "  if iplot == 1\n",
    "    plot(it,ttv1)\n",
    "  elseif iplot == 2\n",
    "    scatter!(it,ttv1)\n",
    "  else\n",
    "    plot!(it,ttv1)\n",
    "  end\n",
    "  println(pavg)\n",
    "  if iplot==3\n",
    "    return current()\n",
    "  end\n",
    "end"
   ]
  },
  {
   "cell_type": "code",
   "execution_count": null,
   "metadata": {},
   "outputs": [],
   "source": []
  }
 ],
 "metadata": {
  "@webio": {
   "lastCommId": null,
   "lastKernelId": null
  },
  "kernelspec": {
   "display_name": "Julia 1.6.0",
   "language": "julia",
   "name": "julia-1.6"
  },
  "language_info": {
   "file_extension": ".jl",
   "mimetype": "application/julia",
   "name": "julia",
   "version": "1.6.0"
  }
 },
 "nbformat": 4,
 "nbformat_minor": 2
}
